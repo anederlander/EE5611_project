{
 "cells": [
  {
   "cell_type": "code",
   "execution_count": 1,
   "metadata": {},
   "outputs": [
    {
     "name": "stderr",
     "output_type": "stream",
     "text": [
      "Using TensorFlow backend.\n"
     ]
    }
   ],
   "source": [
    "import numpy as np\n",
    "import matplotlib.pyplot as plt\n",
    "import keras\n",
    "from keras.layers import Input,Dense,Flatten,MaxPool1D,Activation,LeakyReLU,LSTM,BatchNormalization,Dropout, Conv1D,Lambda\n",
    "from keras.models import Model\n",
    "import pandas as pd\n",
    "import keras.backend as K\n",
    "import h5py\n",
    "import model_architectures as ma\n",
    "import utils"
   ]
  },
  {
   "cell_type": "code",
   "execution_count": 2,
   "metadata": {},
   "outputs": [],
   "source": [
    "models_dir = 'C:/Users/91912/projects/models/baseline_cnn/'\n",
    "feat_file='C:/Users/91912/project_features/base_scrnn_features.h5'\n",
    "fid=h5py.File(feat_file,'r');\n",
    "x_tr=fid['x_tr']\n",
    "y_tr=fid['y_tr'] \n",
    "snr_tr = np.array(fid['snr_tr'])\n",
    "x_ts=fid['x_ts']\n",
    "y_ts=fid['y_ts']\n",
    "snr_ts = np.array(fid['snr_ts'])"
   ]
  },
  {
   "cell_type": "code",
   "execution_count": 3,
   "metadata": {},
   "outputs": [
    {
     "name": "stdout",
     "output_type": "stream",
     "text": [
      "WARNING:tensorflow:Large dropout rate: 0.6 (>0.5). In TensorFlow 2.x, dropout() uses dropout rate instead of keep_prob. Please ensure that this is intended.\n",
      "Model: \"model_1\"\n",
      "_________________________________________________________________\n",
      "Layer (type)                 Output Shape              Param #   \n",
      "=================================================================\n",
      "input_1 (InputLayer)         (None, 128, 2)            0         \n",
      "_________________________________________________________________\n",
      "batch_normalization_1 (Batch (None, 128, 2)            8         \n",
      "_________________________________________________________________\n",
      "lambda_1 (Lambda)            (None, 128, 2, 1)         0         \n",
      "_________________________________________________________________\n",
      "conv2d_1 (Conv2D)            (None, 126, 2, 256)       1024      \n",
      "_________________________________________________________________\n",
      "conv2d_2 (Conv2D)            (None, 124, 1, 80)        122960    \n",
      "_________________________________________________________________\n",
      "flatten_1 (Flatten)          (None, 9920)              0         \n",
      "_________________________________________________________________\n",
      "dense_1 (Dense)              (None, 256)               2539776   \n",
      "_________________________________________________________________\n",
      "dropout_1 (Dropout)          (None, 256)               0         \n",
      "_________________________________________________________________\n",
      "dense_2 (Dense)              (None, 11)                2827      \n",
      "=================================================================\n",
      "Total params: 2,666,595\n",
      "Trainable params: 2,666,591\n",
      "Non-trainable params: 4\n",
      "_________________________________________________________________\n"
     ]
    }
   ],
   "source": [
    "m1 = ma.baseline_conv()"
   ]
  },
  {
   "cell_type": "code",
   "execution_count": 4,
   "metadata": {
    "scrolled": true
   },
   "outputs": [],
   "source": [
    "checkpoint = keras.callbacks.ModelCheckpoint(models_dir+ \"model_epoch-{epoch:02d}_val_acc-{val_accuracy:.2f}.h5\", monitor='val_accuracy', verbose=2, save_best_only=False, save_weights_only=False, mode='auto', period=1)"
   ]
  },
  {
   "cell_type": "code",
   "execution_count": 6,
   "metadata": {
    "scrolled": true
   },
   "outputs": [
    {
     "name": "stdout",
     "output_type": "stream",
     "text": [
      "Train on 198000 samples, validate on 22000 samples\n",
      "Epoch 1/25\n",
      " - 36s - loss: 1.3752 - accuracy: 0.4708 - val_loss: 1.2683 - val_accuracy: 0.5133\n",
      "\n",
      "Epoch 00001: saving model to C:/Users/91912/projects/models/baseline_cnn/model_epoch-01_val_acc-0.51.h5\n",
      "Epoch 2/25\n",
      " - 36s - loss: 1.3282 - accuracy: 0.4883 - val_loss: 1.2668 - val_accuracy: 0.5191\n",
      "\n",
      "Epoch 00002: saving model to C:/Users/91912/projects/models/baseline_cnn/model_epoch-02_val_acc-0.52.h5\n",
      "Epoch 3/25\n",
      " - 37s - loss: 1.2928 - accuracy: 0.5002 - val_loss: 1.2355 - val_accuracy: 0.5295\n",
      "\n",
      "Epoch 00003: saving model to C:/Users/91912/projects/models/baseline_cnn/model_epoch-03_val_acc-0.53.h5\n",
      "Epoch 4/25\n",
      " - 37s - loss: 1.2607 - accuracy: 0.5103 - val_loss: 1.2388 - val_accuracy: 0.5320\n",
      "\n",
      "Epoch 00004: saving model to C:/Users/91912/projects/models/baseline_cnn/model_epoch-04_val_acc-0.53.h5\n",
      "Epoch 5/25\n",
      " - 40s - loss: 1.2301 - accuracy: 0.5211 - val_loss: 1.2357 - val_accuracy: 0.5271\n",
      "\n",
      "Epoch 00005: saving model to C:/Users/91912/projects/models/baseline_cnn/model_epoch-05_val_acc-0.53.h5\n",
      "Epoch 6/25\n",
      " - 41s - loss: 1.1988 - accuracy: 0.5306 - val_loss: 1.2302 - val_accuracy: 0.5390\n",
      "\n",
      "Epoch 00006: saving model to C:/Users/91912/projects/models/baseline_cnn/model_epoch-06_val_acc-0.54.h5\n",
      "Epoch 7/25\n",
      " - 41s - loss: 1.1687 - accuracy: 0.5425 - val_loss: 1.2412 - val_accuracy: 0.5309\n",
      "\n",
      "Epoch 00007: saving model to C:/Users/91912/projects/models/baseline_cnn/model_epoch-07_val_acc-0.53.h5\n",
      "Epoch 8/25\n",
      " - 41s - loss: 1.1437 - accuracy: 0.5494 - val_loss: 1.2517 - val_accuracy: 0.5341\n",
      "\n",
      "Epoch 00008: saving model to C:/Users/91912/projects/models/baseline_cnn/model_epoch-08_val_acc-0.53.h5\n",
      "Epoch 9/25\n",
      " - 43s - loss: 1.1153 - accuracy: 0.5588 - val_loss: 1.2568 - val_accuracy: 0.5312\n",
      "\n",
      "Epoch 00009: saving model to C:/Users/91912/projects/models/baseline_cnn/model_epoch-09_val_acc-0.53.h5\n",
      "Epoch 10/25\n",
      " - 41s - loss: 1.0910 - accuracy: 0.5665 - val_loss: 1.2664 - val_accuracy: 0.5257\n",
      "\n",
      "Epoch 00010: saving model to C:/Users/91912/projects/models/baseline_cnn/model_epoch-10_val_acc-0.53.h5\n",
      "Epoch 11/25\n",
      " - 43s - loss: 1.0702 - accuracy: 0.5739 - val_loss: 1.2833 - val_accuracy: 0.5258\n",
      "\n",
      "Epoch 00011: saving model to C:/Users/91912/projects/models/baseline_cnn/model_epoch-11_val_acc-0.53.h5\n",
      "Epoch 12/25\n",
      " - 41s - loss: 1.0471 - accuracy: 0.5820 - val_loss: 1.2746 - val_accuracy: 0.5320\n",
      "\n",
      "Epoch 00012: saving model to C:/Users/91912/projects/models/baseline_cnn/model_epoch-12_val_acc-0.53.h5\n",
      "Epoch 13/25\n",
      " - 42s - loss: 1.0253 - accuracy: 0.5886 - val_loss: 1.2976 - val_accuracy: 0.5321\n",
      "\n",
      "Epoch 00013: saving model to C:/Users/91912/projects/models/baseline_cnn/model_epoch-13_val_acc-0.53.h5\n",
      "Epoch 14/25\n",
      " - 42s - loss: 1.0050 - accuracy: 0.5957 - val_loss: 1.3270 - val_accuracy: 0.5283\n",
      "\n",
      "Epoch 00014: saving model to C:/Users/91912/projects/models/baseline_cnn/model_epoch-14_val_acc-0.53.h5\n",
      "Epoch 15/25\n",
      " - 41s - loss: 0.9889 - accuracy: 0.6009 - val_loss: 1.3224 - val_accuracy: 0.5269\n",
      "\n",
      "Epoch 00015: saving model to C:/Users/91912/projects/models/baseline_cnn/model_epoch-15_val_acc-0.53.h5\n",
      "Epoch 16/25\n",
      " - 41s - loss: 0.9719 - accuracy: 0.6081 - val_loss: 1.3656 - val_accuracy: 0.5230\n",
      "\n",
      "Epoch 00016: saving model to C:/Users/91912/projects/models/baseline_cnn/model_epoch-16_val_acc-0.52.h5\n",
      "Epoch 17/25\n",
      " - 41s - loss: 0.9530 - accuracy: 0.6141 - val_loss: 1.3651 - val_accuracy: 0.5237\n",
      "\n",
      "Epoch 00017: saving model to C:/Users/91912/projects/models/baseline_cnn/model_epoch-17_val_acc-0.52.h5\n",
      "Epoch 18/25\n",
      " - 41s - loss: 0.9409 - accuracy: 0.6186 - val_loss: 1.3711 - val_accuracy: 0.5285\n",
      "\n",
      "Epoch 00018: saving model to C:/Users/91912/projects/models/baseline_cnn/model_epoch-18_val_acc-0.53.h5\n",
      "Epoch 19/25\n",
      " - 41s - loss: 0.9259 - accuracy: 0.6244 - val_loss: 1.3829 - val_accuracy: 0.5251\n",
      "\n",
      "Epoch 00019: saving model to C:/Users/91912/projects/models/baseline_cnn/model_epoch-19_val_acc-0.53.h5\n",
      "Epoch 20/25\n",
      " - 41s - loss: 0.9100 - accuracy: 0.6309 - val_loss: 1.4425 - val_accuracy: 0.5197\n",
      "\n",
      "Epoch 00020: saving model to C:/Users/91912/projects/models/baseline_cnn/model_epoch-20_val_acc-0.52.h5\n",
      "Epoch 21/25\n",
      " - 42s - loss: 0.9009 - accuracy: 0.6342 - val_loss: 1.4234 - val_accuracy: 0.5228\n",
      "\n",
      "Epoch 00021: saving model to C:/Users/91912/projects/models/baseline_cnn/model_epoch-21_val_acc-0.52.h5\n",
      "Epoch 22/25\n",
      " - 41s - loss: 0.8883 - accuracy: 0.6385 - val_loss: 1.4580 - val_accuracy: 0.5100\n",
      "\n",
      "Epoch 00022: saving model to C:/Users/91912/projects/models/baseline_cnn/model_epoch-22_val_acc-0.51.h5\n",
      "Epoch 23/25\n",
      " - 41s - loss: 0.8795 - accuracy: 0.6410 - val_loss: 1.4842 - val_accuracy: 0.5136\n",
      "\n",
      "Epoch 00023: saving model to C:/Users/91912/projects/models/baseline_cnn/model_epoch-23_val_acc-0.51.h5\n",
      "Epoch 24/25\n",
      " - 42s - loss: 0.8642 - accuracy: 0.6473 - val_loss: 1.5140 - val_accuracy: 0.5130\n",
      "\n",
      "Epoch 00024: saving model to C:/Users/91912/projects/models/baseline_cnn/model_epoch-24_val_acc-0.51.h5\n",
      "Epoch 25/25\n",
      " - 41s - loss: 0.8589 - accuracy: 0.6493 - val_loss: 1.4993 - val_accuracy: 0.5192\n",
      "\n",
      "Epoch 00025: saving model to C:/Users/91912/projects/models/baseline_cnn/model_epoch-25_val_acc-0.52.h5\n"
     ]
    }
   ],
   "source": [
    "history = m1.fit(x=x_tr,\n",
    "       y=y_tr,\n",
    "       validation_data=[x_ts,y_ts],\n",
    "       batch_size=128,\n",
    "       epochs=25,\n",
    "       shuffle='batch',\n",
    "       callbacks = [checkpoint],\n",
    "       verbose=2)"
   ]
  },
  {
   "cell_type": "code",
   "execution_count": 7,
   "metadata": {
    "scrolled": true
   },
   "outputs": [
    {
     "name": "stdout",
     "output_type": "stream",
     "text": [
      "===================================================\n",
      "Baseline cnn\n",
      "\n",
      "\n",
      "acc_baseline_cnn\n",
      " [0.47079292, 0.48831314, 0.50021213, 0.51033336, 0.52110606, 0.53061616, 0.5424596, 0.54943436, 0.5587576, 0.5664545, 0.57387877, 0.5820101, 0.5886414, 0.5957172, 0.60085356, 0.6081263, 0.6140909, 0.6185909, 0.62443435, 0.6308838, 0.63416666, 0.6384596, 0.6409596, 0.64725757, 0.64931816]\n",
      "val_acc_baseline_cnn\n",
      " [0.5132727026939392, 0.519136369228363, 0.5295454263687134, 0.5319545269012451, 0.5271363854408264, 0.5390454530715942, 0.5309090614318848, 0.5340909361839294, 0.5312272906303406, 0.5256817936897278, 0.5258181691169739, 0.5320454835891724, 0.5321363806724548, 0.5283181667327881, 0.5269091129302979, 0.5230454802513123, 0.5236818194389343, 0.5284545421600342, 0.5251363515853882, 0.5197272896766663, 0.5227727293968201, 0.5099999904632568, 0.5136363506317139, 0.5129545331001282, 0.5191818475723267]\n",
      "loss_baseline_cnn\n",
      " [0.47079292, 0.48831314, 0.50021213, 0.51033336, 0.52110606, 0.53061616, 0.5424596, 0.54943436, 0.5587576, 0.5664545, 0.57387877, 0.5820101, 0.5886414, 0.5957172, 0.60085356, 0.6081263, 0.6140909, 0.6185909, 0.62443435, 0.6308838, 0.63416666, 0.6384596, 0.6409596, 0.64725757, 0.64931816]\n",
      "val_loss_baseline_cnn\n",
      " [0.5132727026939392, 0.519136369228363, 0.5295454263687134, 0.5319545269012451, 0.5271363854408264, 0.5390454530715942, 0.5309090614318848, 0.5340909361839294, 0.5312272906303406, 0.5256817936897278, 0.5258181691169739, 0.5320454835891724, 0.5321363806724548, 0.5283181667327881, 0.5269091129302979, 0.5230454802513123, 0.5236818194389343, 0.5284545421600342, 0.5251363515853882, 0.5197272896766663, 0.5227727293968201, 0.5099999904632568, 0.5136363506317139, 0.5129545331001282, 0.5191818475723267]\n"
     ]
    },
    {
     "data": {
      "image/png": "[encoded data removed]",
      "text/plain": [
       "<Figure size 432x288 with 1 Axes>"
      ]
     },
     "metadata": {
      "needs_background": "light"
     },
     "output_type": "display_data"
    },
    {
     "data": {
      "image/png": "[encoded data removed]",
      "text/plain": [
       "<Figure size 432x288 with 1 Axes>"
      ]
     },
     "metadata": {
      "needs_background": "light"
     },
     "output_type": "display_data"
    }
   ],
   "source": [
    "acc_baseline_cnn = history.history['accuracy']\n",
    "val_acc_baseline_cnn = history.history['val_accuracy']\n",
    "loss_baseline_cnn = history.history['loss']\n",
    "val_loss_baseline_cnn = history.history['val_loss']\n",
    "epochs = range(1, len(acc_baseline_cnn) + 1)\n",
    "\n",
    "print('===================================================')\n",
    "print('Baseline cnn\\n\\n')\n",
    "print('acc_baseline_cnn\\n',acc_baseline_cnn)\n",
    "print('val_acc_baseline_cnn\\n',val_acc_baseline_cnn)\n",
    "print('loss_baseline_cnn\\n',loss_baseline_cnn)\n",
    "print('val_loss_baseline_cnn\\n',val_loss_baseline_cnn)\n",
    "\n",
    "plt.plot(epochs, acc_baseline_cnn, 'bo', label='Training acc')\n",
    "plt.plot(epochs, val_acc_baseline_cnn, 'b', label='Validation acc')\n",
    "plt.title('Training and validation accuracy for Baseline SCRNN')\n",
    "plt.legend()\n",
    "plt.figure()\n",
    "plt.plot(epochs, loss_baseline_cnn, 'bo', label='Training loss')\n",
    "plt.plot(epochs, val_loss_baseline_cnn, 'b', label='Validation loss')\n",
    "plt.title('Training and validation loss for Baseline Scrnn')\n",
    "plt.legend()\n",
    "plt.show()"
   ]
  }
 ],
 "metadata": {
  "kernelspec": {
   "display_name": "Python 3 (ipykernel)",
   "language": "python",
   "name": "python3"
  },
  "language_info": {
   "codemirror_mode": {
    "name": "ipython",
    "version": 3
   },
   "file_extension": ".py",
   "mimetype": "text/x-python",
   "name": "python",
   "nbconvert_exporter": "python",
   "pygments_lexer": "ipython3",
   "version": "3.10.9"
  }
 },
 "nbformat": 4,
 "nbformat_minor": 4
}
